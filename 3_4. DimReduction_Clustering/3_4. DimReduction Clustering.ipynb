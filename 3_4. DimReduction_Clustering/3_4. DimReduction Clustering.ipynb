{
 "cells": [
  {
   "cell_type": "markdown",
   "id": "5463a064",
   "metadata": {},
   "source": [
    "# Purpose\n",
    "1. 請為客戶進行貼標，並依其特性進行命名，以幫助行銷部門推出新產品和制定行銷方式。\n",
    "2. 請先進行降維後再分群(依你的判斷選擇降維和分群的方法)"
   ]
  },
  {
   "cell_type": "code",
   "execution_count": null,
   "id": "f09cf71b",
   "metadata": {},
   "outputs": [],
   "source": [
    "import pandas as pd"
   ]
  },
  {
   "cell_type": "markdown",
   "id": "fc75d890",
   "metadata": {},
   "source": [
    "# 1. import data"
   ]
  },
  {
   "cell_type": "code",
   "execution_count": null,
   "id": "c565b5ef",
   "metadata": {},
   "outputs": [],
   "source": [
    "df = pd.read_csv('segmentation_data.csv')\n",
    "df.head()"
   ]
  },
  {
   "cell_type": "code",
   "execution_count": null,
   "id": "c6a3cf13",
   "metadata": {},
   "outputs": [],
   "source": [
    "df.info()"
   ]
  },
  {
   "cell_type": "markdown",
   "id": "313983b7",
   "metadata": {},
   "source": [
    "#### ID：顯示客戶的唯一標識。\n",
    "\n",
    "#### Sex：\n",
    "0：男性        \n",
    "1：女性        \n",
    "\n",
    "#### Marital status：客戶的婚姻狀況。\n",
    "0：單人        \n",
    "1：非單身（離婚/分居/已婚/喪偶）        \n",
    "\n",
    "#### Age：客戶的年齡（以年為單位），計算方法為當年減去創建數據集時客戶的出生年份\n",
    "18 最小值（數據集中觀察到的最低年齡）        \n",
    "76 最大值（數據集中觀察到的最高年齡）        \n",
    "\n",
    "#### Education：客戶的教育水準。\n",
    "0：其他/未知        \n",
    "1：高中        \n",
    "2：大學        \n",
    "3：研究生院        \n",
    "\n",
    "#### Income：客戶以美元自我報告的年收入。\n",
    "35832 最小值（數據集中觀察到的最低收入）        \n",
    "309364 最大值（數據集中觀察到的最高收入）        \n",
    "\n",
    "#### Occupation ：客戶的職業類別。\n",
    "0：失業 / unskilled        \n",
    "1：skilled employee / official        \n",
    "2：management / self-employed / highly qualified employee / officer        \n",
    "\n",
    "#### Settlement size：客戶居住城市的規模。\n",
    "0：小城市        \n",
    "1：中等城市        \n",
    "2：大城市        "
   ]
  },
  {
   "cell_type": "code",
   "execution_count": null,
   "id": "ab8f8a4d",
   "metadata": {},
   "outputs": [],
   "source": [
    "df.describe().round(2).reset_index(level=0)"
   ]
  },
  {
   "cell_type": "code",
   "execution_count": null,
   "id": "f41f1384",
   "metadata": {},
   "outputs": [],
   "source": [
    "# 檢查na 值\n",
    "df.isnull().sum()\n",
    "# 如果有na值 df.dropna(inplace = True)"
   ]
  },
  {
   "cell_type": "code",
   "execution_count": null,
   "id": "8741c2ca",
   "metadata": {},
   "outputs": [],
   "source": [
    "# 性別總數\n",
    "df.groupby(by=\"Sex\",as_index=False).size().rename({'size':'cnt'}, axis=1)"
   ]
  },
  {
   "cell_type": "code",
   "execution_count": null,
   "id": "0ec25f09",
   "metadata": {},
   "outputs": [],
   "source": [
    "# 現在是否有職業\n",
    "df.groupby(by=\"Settlement size\",as_index=False).size().rename({'size':'cnt'}, axis=1)"
   ]
  },
  {
   "cell_type": "markdown",
   "id": "45ab5e4c",
   "metadata": {},
   "source": [
    "# 資料前處理"
   ]
  },
  {
   "cell_type": "code",
   "execution_count": null,
   "id": "e0476e53",
   "metadata": {},
   "outputs": [],
   "source": [
    "df.head()"
   ]
  },
  {
   "cell_type": "code",
   "execution_count": null,
   "id": "02da5c2f",
   "metadata": {},
   "outputs": [],
   "source": [
    "# drop 掉id\n",
    "df_new = df.drop(columns=[\"ID\"])\n",
    "df_new.head()"
   ]
  },
  {
   "cell_type": "code",
   "execution_count": null,
   "id": "25c8d7ff",
   "metadata": {},
   "outputs": [],
   "source": [
    "#標準化\n",
    "from sklearn.preprocessing import StandardScaler\n",
    "\n",
    "# 將類型以外的 11 個特徵全取出\n",
    "X = df_new.iloc[:, 0:] \n",
    "\n",
    "# 使用 scikit-learn 內建的 API 標準化\n",
    "scaler = StandardScaler()\n",
    "Z_sk = scaler.fit_transform(X)"
   ]
  },
  {
   "cell_type": "code",
   "execution_count": null,
   "id": "90e1790e",
   "metadata": {},
   "outputs": [],
   "source": [
    "# 更新 DataFrame\n",
    "df_new.iloc[:, 0:] = Z_sk\n",
    "df_new.head()"
   ]
  },
  {
   "cell_type": "code",
   "execution_count": null,
   "id": "66fc9605",
   "metadata": {},
   "outputs": [],
   "source": [
    "# 顯示各特徵的平均與標準差\n",
    "df_stats = df_new.describe().loc[['mean', 'std']]\n",
    "df_stats.round(2)"
   ]
  },
  {
   "cell_type": "markdown",
   "id": "6452ea9e",
   "metadata": {},
   "source": [
    "# Modeling\n",
    "- 降維\n",
    "  - PCA\n",
    "  - MDS (尚未寫)\n",
    "- 分群\n",
    "  - k-means\n"
   ]
  },
  {
   "cell_type": "markdown",
   "id": "0ec14595",
   "metadata": {},
   "source": [
    "## PCA"
   ]
  },
  {
   "cell_type": "code",
   "execution_count": null,
   "id": "5fcbae54",
   "metadata": {},
   "outputs": [],
   "source": [
    "# 做七個主成分的時候 解釋力從1到7排列\n",
    "from sklearn.decomposition import PCA\n",
    "import numpy as np\n",
    "\n",
    "pca_7d = PCA(7, random_state=123)\n",
    "pca_7d.fit(Z_sk)\n",
    "np.round(pca_7d.explained_variance_ratio_, 2)"
   ]
  },
  {
   "cell_type": "code",
   "execution_count": null,
   "id": "d3bde76b",
   "metadata": {},
   "outputs": [],
   "source": [
    "print(f'前2個主成分解釋力達: {sum(pca_7d.explained_variance_ratio_.tolist()[:2])}') \n",
    "print(f'前3個主成分解釋力達: {sum(pca_7d.explained_variance_ratio_.tolist()[:3])}') "
   ]
  },
  {
   "cell_type": "code",
   "execution_count": null,
   "id": "04c3b41f",
   "metadata": {},
   "outputs": [],
   "source": [
    "import matplotlib.pyplot as plt\n",
    "# 第一個位置為第一主成份的變異，所以要加0在第一個位置\n",
    "var_plot = [0] + pca_7d.explained_variance_ratio_.tolist()\n",
    "\n",
    "cum_explained_var_ratio = np.cumsum(var_plot)\n",
    "plt.plot(cum_explained_var_ratio)\n",
    "plt.xlabel('# principal components')\n",
    "plt.ylabel('cumulative explained variance');"
   ]
  },
  {
   "cell_type": "code",
   "execution_count": null,
   "id": "e61880be",
   "metadata": {},
   "outputs": [],
   "source": [
    "# 主成分分析其實就是在分析共變異數矩陣(covariance matrix)，矩陣的特徵向量(eigenvector)就是主成分，特徵值(eigenvalue)由大到小依序排列就是第一主成分、第二主成分...。\n",
    "# 依照eigenvalue的大小排序共變異數矩陣的eigenvectors\n",
    "pca = PCA(n_components=2, random_state=123)\n",
    "\n",
    "# 注意我們是對標準化後的特徵做PCA\n",
    "pca_trans = pca.fit_transform(Z_sk)"
   ]
  },
  {
   "cell_type": "code",
   "execution_count": null,
   "id": "caede03d",
   "metadata": {},
   "outputs": [],
   "source": [
    "# 檢視2個主成分跟原本特徵之關係\n",
    "# 可以為主成分命名 變成對所有特徵突出的做新的綜合特徵\n",
    "pcs = np.array(pca.components_)\n",
    "\n",
    "df_pc = pd.DataFrame(pcs, columns=df.columns[1:])\n",
    "df_pc.index = [f\"第{c}主成分\" for c in['一', '二']]\n",
    "df_pc.style\\\n",
    "    .background_gradient(cmap='PuBu', axis=None)\\\n",
    "    .format(\"{:.2}\")"
   ]
  },
  {
   "cell_type": "code",
   "execution_count": null,
   "id": "c72f502e",
   "metadata": {},
   "outputs": [],
   "source": [
    "# 第一主成分顯示在 x 軸，第二主成分在 y 軸\n",
    "plt.scatter(pca_trans[:, 0], pca_trans[:, 1])\n",
    "plt.axis('equal');"
   ]
  },
  {
   "cell_type": "code",
   "execution_count": null,
   "id": "5fae1028",
   "metadata": {},
   "outputs": [],
   "source": [
    "# 把主成分 concat回原本的資料表\n",
    "\n",
    "# 興建df\n",
    "factor_tb = pd.DataFrame(pca_trans, columns=['factor1', 'factor2'])\n",
    "\n",
    "df_factor_tb = pd.concat([df_new.reset_index(drop=True), factor_tb], axis=1)\n",
    "df_factor_tb"
   ]
  },
  {
   "cell_type": "code",
   "execution_count": null,
   "id": "545d5826",
   "metadata": {},
   "outputs": [],
   "source": [
    "# 男女在主成分分析的圖表化\n",
    "# 可以為主成分命名 變成對所有特徵突出的做新的綜合特徵 畫圖時可以用男女做解釋在主成分中的定位\n",
    "import seaborn as sns\n",
    "import matplotlib.pyplot as plt\n",
    "from matplotlib.font_manager import FontProperties\n",
    "%matplotlib inline\n",
    "\n",
    "print('PCA visualization:')\n",
    "sns.lmplot(data=df_factor_tb, x='factor1', y='factor2', hue='Sex', \n",
    "                   fit_reg=False, legend=True, legend_out=True)"
   ]
  },
  {
   "cell_type": "markdown",
   "id": "1b442baf",
   "metadata": {},
   "source": [
    "## K-means\n",
    "- 手軸法\n",
    "- 輪廓分析法"
   ]
  },
  {
   "cell_type": "code",
   "execution_count": null,
   "id": "edc2f084",
   "metadata": {},
   "outputs": [],
   "source": [
    "from sklearn.cluster import KMeans\n",
    "\n",
    "# 用手軸法找最適合分幾群 \n",
    "\n",
    "\n",
    "clusters=list(range(2,8))  #2-8群\n",
    "ssd = []\n",
    "for num_clusters in clusters:\n",
    "    model_clus = KMeans(n_clusters = num_clusters, max_iter=150,random_state= 50)\n",
    "    model_clus.fit(Z_sk)\n",
    "    ssd.append(model_clus.inertia_)\n",
    "\n",
    "plt.plot(clusters, ssd);"
   ]
  },
  {
   "cell_type": "code",
   "execution_count": null,
   "id": "45f9d711",
   "metadata": {},
   "outputs": [],
   "source": [
    "# 輪廓分析法\n",
    "from sklearn.metrics import silhouette_score\n",
    "\n",
    "range_n_clusters = [2, 3, 4, 5, 6, 7, 8, 9, 10, 11, 12 ,13, 14 ]\n",
    "\n",
    "for num_clusters in range_n_clusters:\n",
    "    \n",
    "    # intialise kmeans\n",
    "    kmeans = KMeans(n_clusters=num_clusters, max_iter=50,random_state= 100)\n",
    "    kmeans.fit(Z_sk)\n",
    "    \n",
    "    cluster_labels = kmeans.labels_\n",
    "    \n",
    "    # silhouette score\n",
    "    silhouette_avg = silhouette_score(Z_sk, cluster_labels)\n",
    "    print(\"For n_clusters={0}, the silhouette score is {1}\".format(num_clusters, silhouette_avg))\n",
    "\n",
    "\n"
   ]
  },
  {
   "cell_type": "markdown",
   "id": "d4f7daca",
   "metadata": {},
   "source": [
    " (silhouette score越大越好)\n",
    "\n",
    " 因此選12群"
   ]
  },
  {
   "cell_type": "code",
   "execution_count": null,
   "id": "38cf081a",
   "metadata": {},
   "outputs": [],
   "source": [
    "cluster = KMeans(n_clusters = 12, random_state = 111)\n",
    "cluster.fit(Z_sk)\n",
    "y_kmeans = cluster.predict(Z_sk)\n",
    "print(y_kmeans)"
   ]
  },
  {
   "cell_type": "code",
   "execution_count": null,
   "id": "fcd752fe",
   "metadata": {},
   "outputs": [],
   "source": [
    "#count number of records in every cluster\n",
    "pd.Series(cluster.labels_).value_counts()"
   ]
  },
  {
   "cell_type": "markdown",
   "id": "72135c09",
   "metadata": {},
   "source": [
    "檢視分群結果"
   ]
  },
  {
   "cell_type": "code",
   "execution_count": null,
   "id": "42b2ee99",
   "metadata": {},
   "outputs": [],
   "source": [
    "# 把k-means結果做成df \n",
    "pred = pd.DataFrame(cluster.labels_, columns=['k_cluster'])\n",
    "# concat回原本的df\n",
    "kmeans_result = pd.concat([df.reset_index(drop=True), pred], axis=1)\n",
    "kmeans_result"
   ]
  },
  {
   "cell_type": "code",
   "execution_count": null,
   "id": "1c7ecde3",
   "metadata": {},
   "outputs": [],
   "source": [
    "# 群類=4的data\n",
    "kmeans_result[kmeans_result['k_cluster'] == 4].head()"
   ]
  },
  {
   "cell_type": "code",
   "execution_count": null,
   "id": "2fefacb1",
   "metadata": {},
   "outputs": [],
   "source": [
    "# 12群的平均\n",
    "kmeans_result.groupby(['k_cluster'], as_index=True).mean()"
   ]
  },
  {
   "cell_type": "markdown",
   "id": "024d5ba5",
   "metadata": {},
   "source": [
    "### 劃出散佈圖"
   ]
  }
 ],
 "metadata": {
  "kernelspec": {
   "display_name": "Python 3 (ipykernel)",
   "language": "python",
   "name": "python3"
  },
  "language_info": {
   "codemirror_mode": {
    "name": "ipython",
    "version": 3
   },
   "file_extension": ".py",
   "mimetype": "text/x-python",
   "name": "python",
   "nbconvert_exporter": "python",
   "pygments_lexer": "ipython3",
   "version": "3.11.8"
  }
 },
 "nbformat": 4,
 "nbformat_minor": 5
}
